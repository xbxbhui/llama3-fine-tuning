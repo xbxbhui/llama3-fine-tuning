{
 "cells": [
  {
   "cell_type": "code",
   "execution_count": 98,
   "metadata": {},
   "outputs": [],
   "source": [
    "import pandas as pd\n",
    "reviews = pd.read_csv('best_reviews.csv')\n",
    "\n",
    "best_list = pd.read_csv('best_list.csv')\n",
    "title = best_list['title']\n",
    "link = best_list['link']\n",
    "link_dict = dict(zip(link, title))"
   ]
  },
  {
   "cell_type": "code",
   "execution_count": 99,
   "metadata": {},
   "outputs": [],
   "source": [
    "ft_data_worst_rev = pd.DataFrame(columns=['instruction','input', 'output'])\n",
    "instru = []\n",
    "output = []\n",
    "input = []\n",
    "for index, row in reviews.iterrows():\n",
    "    link = row['link']\n",
    "    rev_title = row['title']\n",
    "    content = row['content']\n",
    "    title = link_dict[link]\n",
    "    ins = 'Write me a review of TV show ' + title +'. The title of the review is: ' + rev_title\n",
    "    if str(row['rating']) != 'nan':\n",
    "        ins += '. The rating of the review is: '+str(row['rating'])\n",
    "    instru.append(ins)\n",
    "    output.append(content)\n",
    "    input.append('')"
   ]
  },
  {
   "cell_type": "code",
   "execution_count": 100,
   "metadata": {},
   "outputs": [],
   "source": [
    "ft_data_worst_rev['instruction'] = instru\n",
    "ft_data_worst_rev['output'] = output\n",
    "ft_data_worst_rev['input'] = input\n",
    "ft_data_worst_rev.to_csv('ft_data_best_rev.csv')"
   ]
  },
  {
   "cell_type": "code",
   "execution_count": 101,
   "metadata": {},
   "outputs": [],
   "source": [
    "a = pd.read_csv('ft_data_worst_rev.csv')\n",
    "b = pd.read_csv('ft_data_best_rev.csv')\n",
    "a = pd.DataFrame(a)\n",
    "b = pd.DataFrame(b)\n",
    "c = pd.concat([a, b])"
   ]
  },
  {
   "cell_type": "code",
   "execution_count": 102,
   "metadata": {},
   "outputs": [],
   "source": [
    "c.to_csv('ft_data_review.csv')"
   ]
  }
 ],
 "metadata": {
  "kernelspec": {
   "display_name": "Python 3",
   "language": "python",
   "name": "python3"
  },
  "language_info": {
   "codemirror_mode": {
    "name": "ipython",
    "version": 3
   },
   "file_extension": ".py",
   "mimetype": "text/x-python",
   "name": "python",
   "nbconvert_exporter": "python",
   "pygments_lexer": "ipython3",
   "version": "3.12.3"
  }
 },
 "nbformat": 4,
 "nbformat_minor": 2
}
